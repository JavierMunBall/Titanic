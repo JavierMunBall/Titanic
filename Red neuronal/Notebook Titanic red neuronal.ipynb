{
 "cells": [
  {
   "cell_type": "code",
   "execution_count": 1,
   "metadata": {},
   "outputs": [
    {
     "name": "stdout",
     "output_type": "stream",
     "text": [
      "WARNING:tensorflow:From c:\\Users\\newmo\\AppData\\Local\\Programs\\Python\\Python310\\lib\\site-packages\\keras\\src\\losses.py:2976: The name tf.losses.sparse_softmax_cross_entropy is deprecated. Please use tf.compat.v1.losses.sparse_softmax_cross_entropy instead.\n",
      "\n",
      "WARNING:tensorflow:From c:\\Users\\newmo\\AppData\\Local\\Programs\\Python\\Python310\\lib\\site-packages\\keras\\src\\backend.py:873: The name tf.get_default_graph is deprecated. Please use tf.compat.v1.get_default_graph instead.\n",
      "\n",
      "WARNING:tensorflow:From c:\\Users\\newmo\\AppData\\Local\\Programs\\Python\\Python310\\lib\\site-packages\\keras\\src\\optimizers\\__init__.py:309: The name tf.train.Optimizer is deprecated. Please use tf.compat.v1.train.Optimizer instead.\n",
      "\n",
      "Epoch 1/10\n",
      "WARNING:tensorflow:From c:\\Users\\newmo\\AppData\\Local\\Programs\\Python\\Python310\\lib\\site-packages\\keras\\src\\utils\\tf_utils.py:492: The name tf.ragged.RaggedTensorValue is deprecated. Please use tf.compat.v1.ragged.RaggedTensorValue instead.\n",
      "\n",
      "WARNING:tensorflow:From c:\\Users\\newmo\\AppData\\Local\\Programs\\Python\\Python310\\lib\\site-packages\\keras\\src\\engine\\base_layer_utils.py:384: The name tf.executing_eagerly_outside_functions is deprecated. Please use tf.compat.v1.executing_eagerly_outside_functions instead.\n",
      "\n",
      "15/15 [==============================] - 1s 13ms/step - loss: 0.6522 - accuracy: 0.6527 - val_loss: 0.5601 - val_accuracy: 0.7807\n",
      "Epoch 2/10\n",
      "15/15 [==============================] - 0s 4ms/step - loss: 0.5222 - accuracy: 0.7758 - val_loss: 0.4905 - val_accuracy: 0.7895\n",
      "Epoch 3/10\n",
      "15/15 [==============================] - 0s 4ms/step - loss: 0.4634 - accuracy: 0.7846 - val_loss: 0.4590 - val_accuracy: 0.7807\n",
      "Epoch 4/10\n",
      "15/15 [==============================] - 0s 4ms/step - loss: 0.4408 - accuracy: 0.7934 - val_loss: 0.4554 - val_accuracy: 0.7807\n",
      "Epoch 5/10\n",
      "15/15 [==============================] - 0s 4ms/step - loss: 0.4294 - accuracy: 0.8088 - val_loss: 0.4441 - val_accuracy: 0.7807\n",
      "Epoch 6/10\n",
      "15/15 [==============================] - 0s 4ms/step - loss: 0.4226 - accuracy: 0.8088 - val_loss: 0.4343 - val_accuracy: 0.7807\n",
      "Epoch 7/10\n",
      "15/15 [==============================] - 0s 4ms/step - loss: 0.4181 - accuracy: 0.8044 - val_loss: 0.4405 - val_accuracy: 0.7544\n",
      "Epoch 8/10\n",
      "15/15 [==============================] - 0s 4ms/step - loss: 0.4144 - accuracy: 0.8176 - val_loss: 0.4331 - val_accuracy: 0.7719\n",
      "Epoch 9/10\n",
      "15/15 [==============================] - 0s 4ms/step - loss: 0.4103 - accuracy: 0.8242 - val_loss: 0.4365 - val_accuracy: 0.7632\n",
      "Epoch 10/10\n",
      "15/15 [==============================] - 0s 4ms/step - loss: 0.4061 - accuracy: 0.8264 - val_loss: 0.4307 - val_accuracy: 0.7632\n",
      "5/5 [==============================] - 0s 1ms/step - loss: 0.4963 - accuracy: 0.8042\n",
      "Precisión del modelo: 0.8041958212852478\n"
     ]
    }
   ],
   "source": [
    "import pandas as pd\n",
    "from sklearn.model_selection import train_test_split\n",
    "from sklearn.preprocessing import StandardScaler\n",
    "from tensorflow.keras.models import Sequential\n",
    "from tensorflow.keras.layers import Dense\n",
    "from tensorflow.keras.models import save_model, load_model\n",
    "import seaborn as sns\n",
    "\n",
    "# Cargar el conjunto de datos del Titanic\n",
    "titanic = sns.load_dataset('titanic')\n",
    "titanic = titanic[['survived', 'pclass', 'sex', 'age', 'fare', 'embarked']]\n",
    "titanic = titanic.dropna()\n",
    "\n",
    "# Convertir variables categóricas en numéricas\n",
    "titanic['sex'] = titanic['sex'].map({'male': 0, 'female': 1})\n",
    "titanic['embarked'] = titanic['embarked'].map({'C': 0, 'Q': 1, 'S': 2})\n",
    "\n",
    "# Separar características (X) y etiquetas (Y)\n",
    "X = titanic.drop('survived', axis=1).values\n",
    "Y = titanic['survived'].values.reshape(-1, 1)\n",
    "\n",
    "# Dividir en conjunto de entrenamiento y de prueba\n",
    "X_train, X_test, Y_train, Y_test = train_test_split(X, Y, test_size=0.2, random_state=42)\n",
    "\n",
    "# Estandarizar los datos\n",
    "scaler = StandardScaler()\n",
    "X_train = scaler.fit_transform(X_train)\n",
    "X_test = scaler.transform(X_test)\n",
    "\n",
    "# Construir el modelo de red neuronal\n",
    "model = Sequential()\n",
    "model.add(Dense(128, input_dim=X_train.shape[1], activation='relu'))\n",
    "model.add(Dense(64, activation='relu'))\n",
    "model.add(Dense(1, activation='sigmoid'))  # 1 nodo de salida para clasificación binaria\n",
    "\n",
    "# Compilar el modelo\n",
    "model.compile(loss='binary_crossentropy', optimizer='adam', metrics=['accuracy'])\n",
    "\n",
    "# Entrenar el modelo\n",
    "model.fit(X_train, Y_train, epochs=10, batch_size=32, validation_split=0.2)\n",
    "\n",
    "# Evaluar el modelo en el conjunto de prueba\n",
    "accuracy = model.evaluate(X_test, Y_test)[1]\n",
    "print(f\"Precisión del modelo: {accuracy}\")\n"
   ]
  },
  {
   "cell_type": "code",
   "execution_count": 2,
   "metadata": {},
   "outputs": [
    {
     "name": "stderr",
     "output_type": "stream",
     "text": [
      "C:\\Users\\newmo\\AppData\\Local\\Temp\\ipykernel_10228\\3556746082.py:2: UserWarning: You are saving your model as an HDF5 file via `model.save()`. This file format is considered legacy. We recommend using instead the native Keras format, e.g. `model.save('my_model.keras')`.\n",
      "  save_model(model, 'titanic.h5')\n"
     ]
    }
   ],
   "source": [
    "# Guardar el modelo en formato h5\n",
    "save_model(model, 'titanic.h5')"
   ]
  },
  {
   "cell_type": "code",
   "execution_count": 5,
   "metadata": {},
   "outputs": [
    {
     "name": "stdout",
     "output_type": "stream",
     "text": [
      "Serving 'titanic.h5' at http://localhost:8080\n"
     ]
    },
    {
     "data": {
      "text/plain": [
       "('localhost', 8080)"
      ]
     },
     "execution_count": 5,
     "metadata": {},
     "output_type": "execute_result"
    }
   ],
   "source": [
    "import netron\n",
    "netron.start(\"titanic.h5\")"
   ]
  }
 ],
 "metadata": {
  "kernelspec": {
   "display_name": "Python 3",
   "language": "python",
   "name": "python3"
  },
  "language_info": {
   "codemirror_mode": {
    "name": "ipython",
    "version": 3
   },
   "file_extension": ".py",
   "mimetype": "text/x-python",
   "name": "python",
   "nbconvert_exporter": "python",
   "pygments_lexer": "ipython3",
   "version": "3.10.0"
  }
 },
 "nbformat": 4,
 "nbformat_minor": 2
}
